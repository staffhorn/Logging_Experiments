{
  "cells": [
    {
      "cell_type": "markdown",
      "metadata": {
        "colab_type": "text",
        "id": "view-in-github"
      },
      "source": [
        "<a href=\"https://colab.research.google.com/github/staffhorn/Logging_Experiments/blob/master/Colab_experiment.ipynb\" target=\"_parent\"><img src=\"https://colab.research.google.com/assets/colab-badge.svg\" alt=\"Open In Colab\"/></a>"
      ]
    },
    {
      "cell_type": "code",
      "execution_count": null,
      "metadata": {},
      "outputs": [],
      "source": [
        "\"\"\"\n",
        " Copyright 2022 \"Holistic Mathematics Agency\".\n",
        " SPDX-License-Identifier: Apache-2.0\n",
        "\"\"\""
      ]
    },
    {
      "cell_type": "markdown",
      "metadata": {},
      "source": [
        "Here is some code that works fine in my python script, and when run locally, but fails when run in Google Colaboratory."
      ]
    },
    {
      "cell_type": "code",
      "execution_count": null,
      "metadata": {
        "colab": {
          "base_uri": "https://localhost:8080/"
        },
        "id": "BbKKAspmo_qg",
        "outputId": "23b0ac51-bbd8-42cf-9be2-a8620fabb865"
      },
      "outputs": [],
      "source": [
        "with open('example_12.yaml') as file:\n",
        "  for line in file.readlines():\n",
        "    print(line[:-1])"
      ]
    },
    {
      "cell_type": "markdown",
      "metadata": {},
      "source": [
        "Debugging the problem.\n",
        "\n",
        "Why does it fail?\n",
        "Here's some debug code."
      ]
    },
    {
      "cell_type": "code",
      "execution_count": null,
      "metadata": {},
      "outputs": [],
      "source": [
        "# Debug\n",
        "\n",
        "import os\n",
        "\n",
        "print('Start Debug: files in current directory:')\n",
        "print(os.getcwd())\n",
        "print('End debug')\n",
        "\n",
        "with open('example_12.yaml') as file:\n",
        "  for line in file.readlines():\n",
        "    print(line[:-1])\n",
        "\n"
      ]
    },
    {
      "cell_type": "code",
      "execution_count": null,
      "metadata": {},
      "outputs": [],
      "source": [
        "import urllib.request\n",
        "\n",
        "for line in urllib.request.urlopen(\"https://github.com/staffhorn/Logging_Experiments/blob/master/example_12.yaml?raw=true\"):\n",
        "  print(line[:-1].decode('utf-8'))\n"
      ]
    }
  ],
  "metadata": {
    "colab": {
      "authorship_tag": "ABX9TyNP3Y/pMeZejzulOQN93YqL",
      "include_colab_link": true,
      "name": "Untitled0.ipynb",
      "provenance": []
    },
    "interpreter": {
      "hash": "9d9421a43afecc0d9b2a607b67923ba608125b9443899a4d8376874893be5831"
    },
    "kernelspec": {
      "display_name": "Python 3.10.4 ('udemy310')",
      "language": "python",
      "name": "python3"
    },
    "language_info": {
      "codemirror_mode": {
        "name": "ipython",
        "version": 3
      },
      "file_extension": ".py",
      "mimetype": "text/x-python",
      "name": "python",
      "nbconvert_exporter": "python",
      "pygments_lexer": "ipython3",
      "version": "3.10.4"
    }
  },
  "nbformat": 4,
  "nbformat_minor": 0
}
